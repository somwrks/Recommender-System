{
 "cells": [
  {
   "cell_type": "code",
   "execution_count": null,
   "id": "a96190d4",
   "metadata": {},
   "outputs": [],
   "source": [
    "import numpy as np\n",
    "import pandas as pd"
   ]
  },
  {
   "cell_type": "code",
   "execution_count": null,
   "id": "1e79bb37",
   "metadata": {},
   "outputs": [],
   "source": [
    "books = pd.read_csv(\"books.csv\")\n",
    "users = pd.read_csv(\"users.csv\")\n",
    "ratings = pd.read_csv(\"ratings.csv\")"
   ]
  },
  {
   "cell_type": "code",
   "execution_count": null,
   "id": "6713770f",
   "metadata": {},
   "outputs": [],
   "source": [
    "books.head()"
   ]
  },
  {
   "cell_type": "code",
   "execution_count": null,
   "id": "ae26aa1e",
   "metadata": {},
   "outputs": [],
   "source": [
    "users.head()"
   ]
  },
  {
   "cell_type": "code",
   "execution_count": null,
   "id": "b3f7413a",
   "metadata": {},
   "outputs": [],
   "source": [
    "ratings.head()"
   ]
  },
  {
   "cell_type": "code",
   "execution_count": null,
   "id": "232c902f",
   "metadata": {},
   "outputs": [],
   "source": [
    "print(books.shape)\n",
    "print(ratings.shape)\n",
    "print(users.shape)"
   ]
  },
  {
   "cell_type": "code",
   "execution_count": null,
   "id": "e3298f0a",
   "metadata": {},
   "outputs": [],
   "source": [
    "books.isnull().sum()"
   ]
  },
  {
   "cell_type": "code",
   "execution_count": null,
   "id": "15d5eb46",
   "metadata": {},
   "outputs": [],
   "source": [
    "users.isnull().sum()"
   ]
  },
  {
   "cell_type": "code",
   "execution_count": null,
   "id": "ab87798f",
   "metadata": {},
   "outputs": [],
   "source": [
    "ratings.isnull().sum()"
   ]
  },
  {
   "cell_type": "code",
   "execution_count": null,
   "id": "3764bf45",
   "metadata": {},
   "outputs": [],
   "source": [
    "books.duplicated().sum()"
   ]
  },
  {
   "cell_type": "code",
   "execution_count": null,
   "id": "437cec75",
   "metadata": {},
   "outputs": [],
   "source": [
    "ratings.duplicated().sum()"
   ]
  },
  {
   "cell_type": "code",
   "execution_count": null,
   "id": "1c18fa42",
   "metadata": {},
   "outputs": [],
   "source": [
    "users.duplicated().sum()"
   ]
  },
  {
   "cell_type": "markdown",
   "id": "7cb8a37c",
   "metadata": {},
   "source": [
    "## Popularity Based Recommendation System"
   ]
  },
  {
   "cell_type": "markdown",
   "id": "93dd8ab0",
   "metadata": {},
   "source": [
    "First of all, im going to merge the data of ratings with books since they are their own mathematical data sets, so its important to get them together inorder to show data on the site including the rating and book details|"
   ]
  },
  {
   "cell_type": "code",
   "execution_count": null,
   "id": "30ef6f82",
   "metadata": {},
   "outputs": [],
   "source": [
    "ratings_with_name = ratings.merge(books, on=\"ISBN\")"
   ]
  },
  {
   "cell_type": "markdown",
   "id": "4100f7ab",
   "metadata": {},
   "source": [
    "Now i will group the ratings with books with the property of book title since it is same in both the datasets and display their ratings next to it, this will present a simplified data of the book title along with their ratings "
   ]
  },
  {
   "cell_type": "code",
   "execution_count": null,
   "id": "de445a9d",
   "metadata": {},
   "outputs": [],
   "source": [
    "num_rating_df = ratings_with_name.groupby(\"Book-Title\").count()[\"Book-Rating\"].reset_index()\n",
    "num_rating_df.rename(columns={\"Book-Rating\":\"num_ratings\"},inplace=True)\n",
    "num_rating_df"
   ]
  },
  {
   "cell_type": "markdown",
   "id": "679cd44d",
   "metadata": {},
   "source": [
    "Now we need to get the average rating aswell, now we will use the same dataset but this time we will use the mean() to utilize the book rating column and rename it to avg rating by editing it "
   ]
  },
  {
   "cell_type": "code",
   "execution_count": null,
   "id": "bd3162b0",
   "metadata": {},
   "outputs": [],
   "source": [
    "avg_rating_df = ratings_with_name.groupby(\"Book-Title\")[\"Book-Rating\"].mean().reset_index()\n",
    "avg_rating_df.rename(columns={\"Book-Rating\":\"avg_rating\"},inplace=True)\n",
    "avg_rating_df"
   ]
  },
  {
   "cell_type": "markdown",
   "id": "c6127fbc",
   "metadata": {},
   "source": [
    "Now we will merge both the datasets to see the number of ratings and average ratings since to calculate a proper data set, its important to consider the popular books only since unpopular books will disrupt the natural mean of the data that is why we are using num ratings, so that the book which is reviewed the most will be used in consideration"
   ]
  },
  {
   "cell_type": "code",
   "execution_count": null,
   "id": "7f416769",
   "metadata": {},
   "outputs": [],
   "source": [
    "popular_df = num_rating_df.merge(avg_rating_df,on=\"Book-Title\")\n",
    "popular_df"
   ]
  },
  {
   "cell_type": "markdown",
   "id": "abe63dec",
   "metadata": {},
   "source": [
    "Now, considering only the books with more reviews and sorting them in descending order with avg rating"
   ]
  },
  {
   "cell_type": "code",
   "execution_count": null,
   "id": "9579ef9c",
   "metadata": {},
   "outputs": [],
   "source": [
    "popular_df= popular_df[popular_df[\"num_ratings\"]>=250].sort_values(\"avg_rating\",ascending=False).head(50)"
   ]
  },
  {
   "cell_type": "markdown",
   "id": "a84073ac",
   "metadata": {},
   "source": [
    "Since there are lot of duplicates, we will use drop duplicates by Book-Title and further utilize only the needed columns from the datasets which are need to be displayed"
   ]
  },
  {
   "cell_type": "code",
   "execution_count": null,
   "id": "4ede6752",
   "metadata": {},
   "outputs": [],
   "source": [
    "popular_df= popular_df.merge(books,on=\"Book-Title\").drop_duplicates(\"Book-Title\")[[\"Book-Title\",\"Book-Author\",'Image-URL-M',\"num_ratings\",\"avg_rating\"]]"
   ]
  },
  {
   "cell_type": "code",
   "execution_count": null,
   "id": "d3bcfeb5",
   "metadata": {},
   "outputs": [],
   "source": [
    "popular_df"
   ]
  },
  {
   "cell_type": "markdown",
   "id": "086ed21c",
   "metadata": {},
   "source": [
    "### Collaborative Filtering Based Recommender System"
   ]
  },
  {
   "cell_type": "code",
   "execution_count": null,
   "id": "5f46295f",
   "metadata": {},
   "outputs": [],
   "source": [
    "ratings_with_name.groupby(\"User-ID\").count()"
   ]
  },
  {
   "cell_type": "code",
   "execution_count": null,
   "id": "43baaf5a",
   "metadata": {},
   "outputs": [],
   "source": []
  },
  {
   "cell_type": "code",
   "execution_count": null,
   "id": "be4ae0c2",
   "metadata": {},
   "outputs": [],
   "source": []
  },
  {
   "cell_type": "code",
   "execution_count": null,
   "id": "6aa4e50c",
   "metadata": {},
   "outputs": [],
   "source": []
  }
 ],
 "metadata": {
  "kernelspec": {
   "display_name": "Python 3 (ipykernel)",
   "language": "python",
   "name": "python3"
  },
  "language_info": {
   "codemirror_mode": {
    "name": "ipython",
    "version": 3
   },
   "file_extension": ".py",
   "mimetype": "text/x-python",
   "name": "python",
   "nbconvert_exporter": "python",
   "pygments_lexer": "ipython3",
   "version": "3.11.5"
  }
 },
 "nbformat": 4,
 "nbformat_minor": 5
}
